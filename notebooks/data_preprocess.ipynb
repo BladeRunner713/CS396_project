{
 "cells": [
  {
   "cell_type": "code",
   "execution_count": 20,
   "metadata": {
    "collapsed": true
   },
   "outputs": [
    {
     "name": "stdout",
     "output_type": "stream",
     "text": [
      " 11627 rows\n"
     ]
    }
   ],
   "source": [
    "# Q3.2\n",
    "# load data\n",
    "import numpy as np\n",
    "import pandas as pd\n",
    "df = pd.read_csv(\"../data/data.csv\")\n",
    "df = df[[\"RANDID\", \"AGE\", \"SYSBP\", \"DIABP\", \"CURSMOKE\", \"BPMEDS\", \"CVD\"]]\n",
    "# df = df.dropna()\n",
    "\n",
    "print(\"\", df.shape[0], \"rows\")\n",
    "observation_count = np.max(pd.value_counts(df[\"RANDID\"]))\n"
   ]
  },
  {
   "cell_type": "code",
   "execution_count": 21,
   "outputs": [
    {
     "name": "stdout",
     "output_type": "stream",
     "text": [
      " 11627 rows\n"
     ]
    }
   ],
   "source": [
    "# mean of continue/max for binary\n",
    "df_mean = df.groupby(['RANDID']).aggregate(\n",
    "    {'AGE': np.average, 'SYSBP': np.average, 'DIABP': np.average, 'CURSMOKE': np.max, 'BPMEDS': np.max, 'CVD': np.max})\n",
    "df_mean.to_csv('../data/data_mean.csv', index=False)\n",
    "print(\"\", df.shape[0], \"rows\")"
   ],
   "metadata": {
    "collapsed": false,
    "pycharm": {
     "name": "#%%\n"
    }
   }
  },
  {
   "cell_type": "code",
   "execution_count": 22,
   "outputs": [
    {
     "name": "stdout",
     "output_type": "stream",
     "text": [
      " 11627 rows\n"
     ]
    }
   ],
   "source": [
    "# copy preprocess strategy\n",
    "df_copy = pd.DataFrame()\n",
    "id_count = df.groupby(['RANDID'], as_index=False)['RANDID'].aggregate({'COUNT':'count'})\n",
    "# copy the last observation to fill in three observation for each subject\n",
    "i = 0\n",
    "for j in range(0,4434):\n",
    "    b = int(id_count.loc[[j]]['COUNT'])\n",
    "    if b == 1:\n",
    "        df_copy = df_copy.append(df.loc[[i]], ignore_index=True)\n",
    "        df_copy = df_copy.append(df.loc[[i]], ignore_index=True)\n",
    "        df_copy = df_copy.append(df.loc[[i]], ignore_index=True)\n",
    "        i = i+1\n",
    "    elif b == 2:\n",
    "        df_copy = df_copy.append(df.loc[[i]], ignore_index=True)\n",
    "        df_copy = df_copy.append(df.loc[[i+1]], ignore_index=True)\n",
    "        df_copy = df_copy.append(df.loc[[i+1]], ignore_index=True)\n",
    "        i = i+2\n",
    "    elif b == 3:\n",
    "        df_copy = df_copy.append(df.loc[[i]], ignore_index=True)\n",
    "        df_copy = df_copy.append(df.loc[[i+1]], ignore_index=True)\n",
    "        df_copy = df_copy.append(df.loc[[i+2]], ignore_index=True)\n",
    "        i = i+3\n",
    "\n",
    "df_copy.to_csv('../data/data_copy.csv', index=False)\n",
    "print(\"\", df.shape[0], \"rows\")"
   ],
   "metadata": {
    "collapsed": false,
    "pycharm": {
     "name": "#%%\n"
    }
   }
  },
  {
   "cell_type": "code",
   "execution_count": 23,
   "outputs": [
    {
     "name": "stdout",
     "output_type": "stream",
     "text": [
      "(0, 0)\n",
      "       RANDID  AGE  SYSBP  DIABP  CURSMOKE  BPMEDS  CVD  AGE2  AGE3  SYSBP2  \\\n",
      "0        2448   39  106.0   70.0         0     0.0    1  52.0   NaN   121.0   \n",
      "1        6238   46  121.0   81.0         0     0.0    0  52.0  58.0   105.0   \n",
      "2        9428   48  127.5   80.0         1     0.0    0  54.0   NaN   141.0   \n",
      "3       10552   61  150.0   95.0         1     0.0    1  67.0   NaN   183.0   \n",
      "4       11252   46  130.0   84.0         1     0.0    0  51.0  58.0   109.0   \n",
      "...       ...  ...    ...    ...       ...     ...  ...   ...   ...     ...   \n",
      "4429  9990894   48  131.0   72.0         1     NaN    0  54.0  60.0   145.0   \n",
      "4430  9993179   44  126.5   87.0         1     0.0    0  50.0  56.0   131.0   \n",
      "4431  9995546   52  133.5   83.0         0     0.0    1  58.0   NaN   140.0   \n",
      "4432  9998212   40  141.0   98.0         0     0.0    0  46.0  52.0   126.0   \n",
      "4433  9999312   39  133.0   86.0         1     0.0    0  46.0  50.0   138.0   \n",
      "\n",
      "      SYSBP3  DIABP2  DIABP3  CURSMOKE2  CURSMOKE3  \n",
      "0        NaN    66.0     NaN        0.0        NaN  \n",
      "1      108.0    69.5    66.0        0.0        0.0  \n",
      "2        NaN    89.0     NaN        1.0        NaN  \n",
      "3        NaN   109.0     NaN        1.0        NaN  \n",
      "4      155.0    77.0    90.0        1.0        1.0  \n",
      "...      ...     ...     ...        ...        ...  \n",
      "4429   205.0    89.0   100.0        1.0        1.0  \n",
      "4430   145.0    80.0    92.0        1.0        1.0  \n",
      "4431     NaN    83.0     NaN        0.0        NaN  \n",
      "4432   143.0    82.0    89.0        0.0        0.0  \n",
      "4433   147.0    79.0    96.0        1.0        1.0  \n",
      "\n",
      "[4434 rows x 15 columns]\n"
     ]
    }
   ],
   "source": [
    "# miceone\n",
    "# Use one vector to represent the three observation of a subject\n",
    "df_mice = pd.DataFrame()\n",
    "id_count = df.groupby(['RANDID'], as_index=False)['RANDID'].aggregate({'COUNT':'count'})\n",
    "\n",
    "# modified the row from 3 observation to 1\n",
    "def Three2One(row, age2, sysbp2,diabp2,cursmoke2\n",
    "                 , age3, sysbp3,diabp3,cursmoke3):\n",
    "    row[\"AGE2\"] = age2\n",
    "    row[\"AGE3\"] = age3\n",
    "    row[\"SYSBP2\"] = sysbp2\n",
    "    row[\"SYSBP3\"] = sysbp3\n",
    "    row[\"DIABP2\"] = diabp2\n",
    "    row[\"DIABP3\"] = diabp3\n",
    "    row[\"CURSMOKE2\"] = cursmoke2\n",
    "    row[\"CURSMOKE3\"] = cursmoke3\n",
    "    return row\n",
    "i = 0\n",
    "print(df_mice.shape)\n",
    "for j in range(0,4434):\n",
    "    b = int(id_count.loc[[j]]['COUNT'])\n",
    "    # print(b)\n",
    "    if b == 1:\n",
    "        r = Three2One(df.loc[[i]], np.nan, np.nan, np.nan, np.nan,\n",
    "                        np.nan, np.nan, np.nan, np.nan)\n",
    "        df_mice = df_mice.append(r, ignore_index=True)\n",
    "        i = i+1\n",
    "    elif b == 2:\n",
    "        r = Three2One(df.loc[[i]], df.loc[[i+1]].iloc[0,1], df.loc[[i+1]].iloc[0,2], df.loc[[i+1]].iloc[0,3], df.loc[[i+1]].iloc[0,4],\n",
    "                        np.nan, np.nan, np.nan, np.nan)\n",
    "        df_mice = df_mice.append(r, ignore_index=True)\n",
    "        i = i+2\n",
    "    elif b == 3:\n",
    "        r = Three2One(df.loc[[i]], df.loc[[i+1]].iloc[0,1], df.loc[[i+1]].iloc[0,2], df.loc[[i+1]].iloc[0,3], df.loc[[i+1]].iloc[0,4],\n",
    "                                   df.loc[[i+2]].iloc[0,1], df.loc[[i+2]].iloc[0,2], df.loc[[i+2]].iloc[0,3], df.loc[[i+2]].iloc[0,4])\n",
    "        df_mice = df_mice.append(r, ignore_index=True)\n",
    "        i = i+3\n",
    "\n",
    "print(df_mice)"
   ],
   "metadata": {
    "collapsed": false,
    "pycharm": {
     "name": "#%%\n"
    }
   }
  },
  {
   "cell_type": "code",
   "execution_count": 24,
   "outputs": [
    {
     "name": "stdout",
     "output_type": "stream",
     "text": [
      " 11627 rows\n"
     ]
    }
   ],
   "source": [
    "# MICE1\n",
    "# MICE is going to fill in the nan value by chain equation\n",
    "import numpy as np\n",
    "from sklearn.impute import SimpleImputer\n",
    "# we get the strategy of mean\n",
    "imp = SimpleImputer(missing_values=np.nan, strategy='mean')\n",
    "X = df_mice.to_numpy()\n",
    "imp.fit(X)\n",
    "SimpleImputer()\n",
    "X = imp.transform(X)\n",
    "df_micemean = pd.DataFrame(X, columns = [\"RANDID\", \"AGE\", \"SYSBP\", \"DIABP\", \"CURSMOKE\", \"BPMEDS\", \"CVD\",\n",
    "                                \"AGE2\", \"AGE3\",\"SYSBP2\", \"SYSBP3\", \"DIABP2\", \"DIABP3\", \"CURSMOKE2\", \"CURSMOKE3\"])\n",
    "# print(df_micemean)\n",
    "df_micemean.to_csv('../data/data_micemean.csv', index=False)\n",
    "print(\"\", df.shape[0], \"rows\")"
   ],
   "metadata": {
    "collapsed": false,
    "pycharm": {
     "name": "#%%\n"
    }
   }
  },
  {
   "cell_type": "code",
   "execution_count": 25,
   "outputs": [
    {
     "name": "stdout",
     "output_type": "stream",
     "text": [
      " 11627 rows\n"
     ]
    }
   ],
   "source": [
    "# MICE2\n",
    "# MICE is going to fill in the nan value by chain equation\n",
    "import numpy as np\n",
    "from sklearn.impute import SimpleImputer\n",
    "# we use the strategy of getting the most frequency\n",
    "imp = SimpleImputer(strategy=\"most_frequent\")\n",
    "X = df_mice.to_numpy()\n",
    "imp.fit(X)\n",
    "SimpleImputer()\n",
    "X = imp.fit_transform(df_mice)\n",
    "df_micefrequency = pd.DataFrame(X, columns = [\"RANDID\", \"AGE\", \"SYSBP\", \"DIABP\", \"CURSMOKE\", \"BPMEDS\", \"CVD\",\n",
    "                                \"AGE2\", \"AGE3\",\"SYSBP2\", \"SYSBP3\", \"DIABP2\", \"DIABP3\", \"CURSMOKE2\", \"CURSMOKE3\"])\n",
    "df_micefrequency.to_csv('../data/data_micefrequency.csv', index=False)\n",
    "print(\"\", df.shape[0], \"rows\")\n"
   ],
   "metadata": {
    "collapsed": false,
    "pycharm": {
     "name": "#%%\n"
    }
   }
  }
 ],
 "metadata": {
  "kernelspec": {
   "display_name": "Python 3",
   "language": "python",
   "name": "python3"
  },
  "language_info": {
   "codemirror_mode": {
    "name": "ipython",
    "version": 2
   },
   "file_extension": ".py",
   "mimetype": "text/x-python",
   "name": "python",
   "nbconvert_exporter": "python",
   "pygments_lexer": "ipython2",
   "version": "2.7.6"
  }
 },
 "nbformat": 4,
 "nbformat_minor": 0
}