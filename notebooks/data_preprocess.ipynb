{
 "cells": [
  {
   "cell_type": "code",
   "execution_count": 20,
   "metadata": {
    "collapsed": true
   },
   "outputs": [
    {
     "name": "stdout",
     "output_type": "stream",
     "text": [
      " 11627 rows\n"
     ]
    }
   ],
   "source": [
    "# Q3.2\n",
    "# load data\n",
    "import numpy as np\n",
    "import pandas as pd\n",
    "df = pd.read_csv(\"../data/data.csv\")\n",
    "df = df[[\"RANDID\", \"AGE\", \"SYSBP\", \"DIABP\", \"CURSMOKE\", \"BPMEDS\", \"CVD\"]]\n",
    "# df = df.dropna()\n",
    "\n",
    "print(\"\", df.shape[0], \"rows\")\n",
    "observation_count = np.max(pd.value_counts(df[\"RANDID\"]))\n"
   ]
  },
  {
   "cell_type": "code",
   "execution_count": 21,
   "outputs": [
    {
     "name": "stdout",
     "output_type": "stream",
     "text": [
      " 11627 rows\n"
     ]
    }
   ],
   "source": [
    "# mean of continue/max for binary\n",
    "df_mean = df.groupby(['RANDID']).aggregate(\n",
    "    {'AGE': np.average, 'SYSBP': np.average, 'DIABP': np.average, 'CURSMOKE': np.max, 'BPMEDS': np.max, 'CVD': np.max})\n",
    "df_mean.to_csv('../data/data_mean.csv', index=False)\n",
    "print(\"\", df.shape[0], \"rows\")"
   ],
   "metadata": {
    "collapsed": false,
    "pycharm": {
     "name": "#%%\n"
    }
   }
  },
  {
   "cell_type": "code",
   "execution_count": 22,
   "outputs": [
    {
     "name": "stdout",
     "output_type": "stream",
     "text": [
      " 11627 rows\n"
     ]
    }
   ],
   "source": [
    "# copy preprocess strategy\n",
    "df_copy = pd.DataFrame()\n",
    "id_count = df.groupby(['RANDID'], as_index=False)['RANDID'].aggregate({'COUNT':'count'})\n",
    "\n",
    "i = 0\n",
    "for j in range(0,4434):\n",
    "    b = int(id_count.loc[[j]]['COUNT'])\n",
    "    if b == 1:\n",
    "        df_copy = df_copy.append(df.loc[[i]], ignore_index=True)\n",
    "        df_copy = df_copy.append(df.loc[[i]], ignore_index=True)\n",
    "        df_copy = df_copy.append(df.loc[[i]], ignore_index=True)\n",
    "        i = i+1\n",
    "    elif b == 2:\n",
    "        df_copy = df_copy.append(df.loc[[i]], ignore_index=True)\n",
    "        df_copy = df_copy.append(df.loc[[i+1]], ignore_index=True)\n",
    "        df_copy = df_copy.append(df.loc[[i+1]], ignore_index=True)\n",
    "        i = i+2\n",
    "    elif b == 3:\n",
    "        df_copy = df_copy.append(df.loc[[i]], ignore_index=True)\n",
    "        df_copy = df_copy.append(df.loc[[i+1]], ignore_index=True)\n",
    "        df_copy = df_copy.append(df.loc[[i+2]], ignore_index=True)\n",
    "        i = i+3\n",
    "\n",
    "df_copy.to_csv('../data/data_copy.csv', index=False)\n",
    "print(\"\", df.shape[0], \"rows\")"
   ],
   "metadata": {
    "collapsed": false,
    "pycharm": {
     "name": "#%%\n"
    }
   }
  },
  {
   "cell_type": "code",
   "execution_count": null,
   "outputs": [
    {
     "name": "stdout",
     "output_type": "stream",
     "text": [
      "(0, 0)\n"
     ]
    }
   ],
   "source": [
    "# miceone\n",
    "df_mice = pd.DataFrame()\n",
    "id_count = df.groupby(['RANDID'], as_index=False)['RANDID'].aggregate({'COUNT':'count'})\n",
    "\n",
    "# modified the row from 3 observation to 1\n",
    "def Three2One(row, age2, sysbp2,diabp2,cursmoke2\n",
    "                 , age3, sysbp3,diabp3,cursmoke3):\n",
    "    row[\"AGE2\"] = age2\n",
    "    row[\"AGE3\"] = age3\n",
    "    row[\"SYSBP2\"] = sysbp2\n",
    "    row[\"SYSBP3\"] = sysbp3\n",
    "    row[\"DIABP2\"] = diabp2\n",
    "    row[\"DIABP3\"] = diabp3\n",
    "    row[\"CURSMOKE2\"] = cursmoke2\n",
    "    row[\"CURSMOKE3\"] = cursmoke3\n",
    "    return row\n",
    "i = 0\n",
    "print(df_mice.shape)\n",
    "for j in range(0,4434):\n",
    "    b = int(id_count.loc[[j]]['COUNT'])\n",
    "    # print(b)\n",
    "    if b == 1:\n",
    "        r = Three2One(df.loc[[i]], np.nan, np.nan, np.nan, np.nan,\n",
    "                        np.nan, np.nan, np.nan, np.nan)\n",
    "        df_mice = df_mice.append(r, ignore_index=True)\n",
    "        i = i+1\n",
    "    elif b == 2:\n",
    "        r = Three2One(df.loc[[i]], df.loc[[i+1]].iloc[0,1], df.loc[[i+1]].iloc[0,2], df.loc[[i+1]].iloc[0,3], df.loc[[i+1]].iloc[0,4],\n",
    "                        np.nan, np.nan, np.nan, np.nan)\n",
    "        df_mice = df_mice.append(r, ignore_index=True)\n",
    "        i = i+2\n",
    "    elif b == 3:\n",
    "        r = Three2One(df.loc[[i]], df.loc[[i+1]].iloc[0,1], df.loc[[i+1]].iloc[0,2], df.loc[[i+1]].iloc[0,3], df.loc[[i+1]].iloc[0,4],\n",
    "                                   df.loc[[i+2]].iloc[0,1], df.loc[[i+2]].iloc[0,2], df.loc[[i+2]].iloc[0,3], df.loc[[i+2]].iloc[0,4])\n",
    "        df_mice = df_mice.append(r, ignore_index=True)\n",
    "        i = i+3\n",
    "\n",
    "\n",
    "print(df_mice)\n",
    "from statsmodels.imputation import mice\n",
    "# import statsmodels"
   ],
   "metadata": {
    "collapsed": false,
    "pycharm": {
     "name": "#%%\n",
     "is_executing": true
    }
   }
  },
  {
   "cell_type": "code",
   "execution_count": null,
   "outputs": [],
   "source": [
    "# MICE1\n",
    "import numpy as np\n",
    "from sklearn.impute import SimpleImputer\n",
    "# we get the strategy of mean\n",
    "imp = SimpleImputer(missing_values=np.nan, strategy='mean')\n",
    "X = df_mice.to_numpy()\n",
    "imp.fit(X)\n",
    "SimpleImputer()\n",
    "X = imp.transform(X)\n",
    "df_micemean = pd.DataFrame(X, columns = [\"RANDID\", \"AGE\", \"SYSBP\", \"DIABP\", \"CURSMOKE\", \"BPMEDS\", \"CVD\",\n",
    "                                \"AGE2\", \"AGE3\",\"SYSBP2\", \"SYSBP3\", \"DIABP2\", \"DIABP3\", \"CURSMOKE2\", \"CURSMOKE3\"])\n",
    "# print(df_micemean)\n",
    "df_micemean.to_csv('../data/data_micemean.csv', index=False)\n",
    "print(\"\", df.shape[0], \"rows\")"
   ],
   "metadata": {
    "collapsed": false,
    "pycharm": {
     "name": "#%%\n",
     "is_executing": true
    }
   }
  },
  {
   "cell_type": "code",
   "execution_count": null,
   "outputs": [],
   "source": [
    "# MICE2\n",
    "import numpy as np\n",
    "from sklearn.impute import SimpleImputer\n",
    "# we use the strategy of getting the most frequency\n",
    "imp = SimpleImputer(strategy=\"most_frequent\")\n",
    "X = df_mice.to_numpy()\n",
    "imp.fit(X)\n",
    "SimpleImputer()\n",
    "X = imp.fit_transform(df_mice)\n",
    "df_micefrequency = pd.DataFrame(X, columns = [\"RANDID\", \"AGE\", \"SYSBP\", \"DIABP\", \"CURSMOKE\", \"BPMEDS\", \"CVD\",\n",
    "                                \"AGE2\", \"AGE3\",\"SYSBP2\", \"SYSBP3\", \"DIABP2\", \"DIABP3\", \"CURSMOKE2\", \"CURSMOKE3\"])\n",
    "df_micefrequency.to_csv('../data/data_micefrequency.csv', index=False)\n",
    "print(\"\", df.shape[0], \"rows\")\n"
   ],
   "metadata": {
    "collapsed": false,
    "pycharm": {
     "name": "#%%\n",
     "is_executing": true
    }
   }
  }
 ],
 "metadata": {
  "kernelspec": {
   "display_name": "Python 3",
   "language": "python",
   "name": "python3"
  },
  "language_info": {
   "codemirror_mode": {
    "name": "ipython",
    "version": 2
   },
   "file_extension": ".py",
   "mimetype": "text/x-python",
   "name": "python",
   "nbconvert_exporter": "python",
   "pygments_lexer": "ipython2",
   "version": "2.7.6"
  }
 },
 "nbformat": 4,
 "nbformat_minor": 0
}