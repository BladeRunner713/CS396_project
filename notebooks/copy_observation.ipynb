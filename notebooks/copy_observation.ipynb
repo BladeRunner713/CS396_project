{
 "cells": [
  {
   "cell_type": "code",
   "execution_count": null,
   "metadata": {
    "collapsed": true
   },
   "outputs": [],
   "source": [
    "import numpy as np\n",
    "import pandas as pd\n",
    "import math\n",
    "import dowhy\n",
    "from dowhy import CausalModel\n",
    "import dowhy.datasets, dowhy.plotter\n",
    "from sklearn.experimental import enable_iterative_imputer\n",
    "from sklearn.impute import IterativeImputer\n",
    "\n",
    "df = pd.read_csv(\"../data/data.csv\")\n",
    "df = df[[\"RANDID\", \"AGE\", \"SYSBP\", \"DIABP\", \"CURSMOKE\", \"BPMEDS\", \"CVD\"]]\n",
    "df = df.groupby(['RANDID']).aggregate(\n",
    "    {'AGE': np.average, 'SYSBP': np.average, 'DIABP': np.average, 'CURSMOKE': np.max, 'BPMEDS': np.max, 'CVD': np.max})\n",
    "df = df.dropna()\n",
    "df[\"BPMEDS\"] = df[\"BPMEDS\"].astype(int)\n",
    "df['AGE'] = df['AGE'].astype(int)\n",
    "df['SYSBP'] = df['SYSBP'].astype(int)\n",
    "df['DIABP'] = df['DIABP'].astype(int)\n",
    "df['CURSMOKE'] = df['CURSMOKE'].astype(int)\n",
    "print(df.head())\n",
    "print(df.shape)\n",
    "model = CausalModel(\n",
    "    data=df,\n",
    "    treatment='BPMEDS',\n",
    "    outcome='CVD',\n",
    "    graph=\"digraph {AGE -> CVD;AGE -> SYSBP;AGE -> DIABP;CURSMOKE->CVD;CURSMOKE->DIABP;CURSMOKE->SYSBP;SYSBP->BPMEDS;DIABP->BPMEDS;BPMEDS->CVD}\"\n",
    ")\n",
    "\n",
    "model.view_model()\n",
    "identified_estimand = model.identify_effect()\n",
    "print(identified_estimand)"
   ]
  }
 ],
 "metadata": {
  "kernelspec": {
   "display_name": "Python 3",
   "language": "python",
   "name": "python3"
  },
  "language_info": {
   "codemirror_mode": {
    "name": "ipython",
    "version": 2
   },
   "file_extension": ".py",
   "mimetype": "text/x-python",
   "name": "python",
   "nbconvert_exporter": "python",
   "pygments_lexer": "ipython2",
   "version": "2.7.6"
  }
 },
 "nbformat": 4,
 "nbformat_minor": 0
}