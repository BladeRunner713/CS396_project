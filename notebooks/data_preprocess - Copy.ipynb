{
 "cells": [
  {
   "cell_type": "code",
   "execution_count": 7,
   "metadata": {
    "collapsed": true
   },
   "outputs": [
    {
     "name": "stdout",
     "output_type": "stream",
     "text": [
      " 11627 rows\n"
     ]
    }
   ],
   "source": [
    "# load data\n",
    "import numpy as np\n",
    "import pandas as pd\n",
    "\n",
    "df = pd.read_csv(\"../data/data.csv\")\n",
    "df = df[[\"RANDID\", \"AGE\", \"SYSBP\", \"DIABP\", \"CURSMOKE\", \"BPMEDS\", \"CVD\"]]\n",
    "\n",
    "print(\"\", df.shape[0], \"rows\")\n",
    "observation_count = np.max(pd.value_counts(df[\"RANDID\"]))"
   ]
  },
  {
   "cell_type": "code",
   "execution_count": 44,
   "outputs": [
    {
     "data": {
      "text/plain": "SimpleImputer()"
     },
     "execution_count": 44,
     "metadata": {},
     "output_type": "execute_result"
    }
   ],
   "source": [
    "from sklearn.impute import SimpleImputer\n",
    "\n",
    "imp = SimpleImputer(missing_values=np.nan, strategy='mean')\n",
    "imp.fit([[1, 2], [np.nan, 3], [7, 6]])\n",
    "SimpleImputer()\n",
    "\n"
   ],
   "metadata": {
    "collapsed": false,
    "pycharm": {
     "name": "#%% MICE for nan\n"
    }
   }
  },
  {
   "cell_type": "code",
   "execution_count": 45,
   "outputs": [
    {
     "name": "stdout",
     "output_type": "stream",
     "text": [
      " 11627 rows\n"
     ]
    }
   ],
   "source": [
    "# mean of continue/max for binary\n",
    "#\n",
    "df_mean = df.groupby(['RANDID']).aggregate(\n",
    "    {'AGE': np.average, 'SYSBP': np.average, 'DIABP': np.average, 'CURSMOKE': np.max, 'BPMEDS': np.max, 'CVD': np.max})\n",
    "df_mean.to_csv('../data/data_mean.csv', index=False)\n",
    "print(\"\", df.shape[0], \"rows\")"
   ],
   "metadata": {
    "collapsed": false,
    "pycharm": {
     "name": "#%%\n"
    }
   }
  },
  {
   "cell_type": "code",
   "execution_count": 21,
   "outputs": [
    {
     "name": "stdout",
     "output_type": "stream",
     "text": [
      "       RANDID  COUNT\n",
      "0        2448      2\n",
      "1        6238      3\n",
      "2        9428      2\n",
      "3       10552      2\n",
      "4       11252      3\n",
      "...       ...    ...\n",
      "4429  9990894      3\n",
      "4430  9993179      3\n",
      "4431  9995546      2\n",
      "4432  9998212      3\n",
      "4433  9999312      3\n",
      "\n",
      "[4434 rows x 2 columns]\n"
     ]
    },
    {
     "ename": "TypeError",
     "evalue": "only list-like objects are allowed to be passed to isin(), you passed a [int]",
     "output_type": "error",
     "traceback": [
      "\u001B[1;31m---------------------------------------------------------------------------\u001B[0m",
      "\u001B[1;31mTypeError\u001B[0m                                 Traceback (most recent call last)",
      "\u001B[1;32m~\\AppData\\Local\\Temp/ipykernel_18212/212648434.py\u001B[0m in \u001B[0;36m<module>\u001B[1;34m\u001B[0m\n\u001B[0;32m      9\u001B[0m \u001B[1;31m# print(id_count[id_count['RANDID']==6238])\u001B[0m\u001B[1;33m\u001B[0m\u001B[1;33m\u001B[0m\u001B[0m\n\u001B[0;32m     10\u001B[0m \u001B[0mi\u001B[0m \u001B[1;33m=\u001B[0m \u001B[1;36m19\u001B[0m\u001B[1;33m\u001B[0m\u001B[1;33m\u001B[0m\u001B[0m\n\u001B[1;32m---> 11\u001B[1;33m \u001B[0mprint\u001B[0m\u001B[1;33m(\u001B[0m\u001B[0mid_count\u001B[0m\u001B[1;33m[\u001B[0m\u001B[0mid_count\u001B[0m\u001B[1;33m[\u001B[0m\u001B[1;34m'RANDID'\u001B[0m\u001B[1;33m]\u001B[0m\u001B[1;33m.\u001B[0m\u001B[0misin\u001B[0m\u001B[1;33m(\u001B[0m\u001B[1;36m6238\u001B[0m\u001B[1;33m)\u001B[0m\u001B[1;33m]\u001B[0m\u001B[1;33m.\u001B[0m\u001B[0mloc\u001B[0m\u001B[1;33m[\u001B[0m\u001B[1;36m0\u001B[0m\u001B[1;33m]\u001B[0m\u001B[1;33m[\u001B[0m\u001B[1;34m'COUNT'\u001B[0m\u001B[1;33m]\u001B[0m\u001B[1;33m)\u001B[0m\u001B[1;33m\u001B[0m\u001B[1;33m\u001B[0m\u001B[0m\n\u001B[0m\u001B[0;32m     12\u001B[0m \u001B[1;33m\u001B[0m\u001B[0m\n\u001B[0;32m     13\u001B[0m \u001B[1;32mwhile\u001B[0m \u001B[0mi\u001B[0m \u001B[1;33m<=\u001B[0m \u001B[1;36m10\u001B[0m\u001B[1;33m:\u001B[0m\u001B[1;33m\u001B[0m\u001B[1;33m\u001B[0m\u001B[0m\n",
      "\u001B[1;32m~\\anaconda3\\lib\\site-packages\\pandas\\core\\series.py\u001B[0m in \u001B[0;36misin\u001B[1;34m(self, values)\u001B[0m\n\u001B[0;32m   5023\u001B[0m         \u001B[0mdtype\u001B[0m\u001B[1;33m:\u001B[0m \u001B[0mbool\u001B[0m\u001B[1;33m\u001B[0m\u001B[1;33m\u001B[0m\u001B[0m\n\u001B[0;32m   5024\u001B[0m         \"\"\"\n\u001B[1;32m-> 5025\u001B[1;33m         \u001B[0mresult\u001B[0m \u001B[1;33m=\u001B[0m \u001B[0malgorithms\u001B[0m\u001B[1;33m.\u001B[0m\u001B[0misin\u001B[0m\u001B[1;33m(\u001B[0m\u001B[0mself\u001B[0m\u001B[1;33m.\u001B[0m\u001B[0m_values\u001B[0m\u001B[1;33m,\u001B[0m \u001B[0mvalues\u001B[0m\u001B[1;33m)\u001B[0m\u001B[1;33m\u001B[0m\u001B[1;33m\u001B[0m\u001B[0m\n\u001B[0m\u001B[0;32m   5026\u001B[0m         return self._constructor(result, index=self.index).__finalize__(\n\u001B[0;32m   5027\u001B[0m             \u001B[0mself\u001B[0m\u001B[1;33m,\u001B[0m \u001B[0mmethod\u001B[0m\u001B[1;33m=\u001B[0m\u001B[1;34m\"isin\"\u001B[0m\u001B[1;33m\u001B[0m\u001B[1;33m\u001B[0m\u001B[0m\n",
      "\u001B[1;32m~\\anaconda3\\lib\\site-packages\\pandas\\core\\algorithms.py\u001B[0m in \u001B[0;36misin\u001B[1;34m(comps, values)\u001B[0m\n\u001B[0;32m    457\u001B[0m         )\n\u001B[0;32m    458\u001B[0m     \u001B[1;32mif\u001B[0m \u001B[1;32mnot\u001B[0m \u001B[0mis_list_like\u001B[0m\u001B[1;33m(\u001B[0m\u001B[0mvalues\u001B[0m\u001B[1;33m)\u001B[0m\u001B[1;33m:\u001B[0m\u001B[1;33m\u001B[0m\u001B[1;33m\u001B[0m\u001B[0m\n\u001B[1;32m--> 459\u001B[1;33m         raise TypeError(\n\u001B[0m\u001B[0;32m    460\u001B[0m             \u001B[1;34m\"only list-like objects are allowed to be passed \"\u001B[0m\u001B[1;33m\u001B[0m\u001B[1;33m\u001B[0m\u001B[0m\n\u001B[0;32m    461\u001B[0m             \u001B[1;34mf\"to isin(), you passed a [{type(values).__name__}]\"\u001B[0m\u001B[1;33m\u001B[0m\u001B[1;33m\u001B[0m\u001B[0m\n",
      "\u001B[1;31mTypeError\u001B[0m: only list-like objects are allowed to be passed to isin(), you passed a [int]"
     ]
    }
   ],
   "source": [
    "# copy\n",
    "df_copy = pd.DataFrame()\n",
    "# , as_index=False\n",
    "df['RANDID'] = df['RANDID'].astype(int)\n",
    "id_count = df.groupby(['RANDID'], as_index=False)['RANDID'].aggregate({'COUNT': 'count'})\n",
    "print(id_count)\n",
    "# for i in range(0, df.shape[0]):\n",
    "# print(id_count['RANDID'].isin([6238]))\n",
    "# print(id_count[id_count['RANDID']==6238])\n",
    "i = 19\n",
    "print(id_count[id_count['RANDID'].isin(6238)].loc[0]['COUNT'])\n",
    "\n",
    "while i <= 10:\n",
    "    r = df.loc[[i]]\n",
    "    id = int(r['RANDID'])\n",
    "    print(i, id)\n",
    "    b = id_count[id_count['RANDID'].isin([id])].loc[0]['COUNT']\n",
    "    print(b)\n",
    "    if b == 1:\n",
    "        df_copy = df_copy.append(r, ignore_index=True)\n",
    "        df_copy = df_copy.append(r, ignore_index=True)\n",
    "        df_copy = df_copy.append(r, ignore_index=True)\n",
    "        i = i + 1\n",
    "        print(df_copy)\n",
    "    elif b == 2:\n",
    "        df_copy = df_copy.append(r, ignore_index=True)\n",
    "        r = df.loc[[i + 1]]\n",
    "        df_copy = df_copy.append(r, ignore_index=True)\n",
    "        df_copy = df_copy.append(r, ignore_index=True)\n",
    "        i = i + 2\n",
    "        print(df_copy)\n",
    "    elif b == 3:\n",
    "        df_copy = df_copy.append(r, ignore_index=True)\n",
    "        r = df.loc[[i + 1]]\n",
    "        df_copy = df_copy.append(r, ignore_index=True)\n",
    "        r = df.loc[[i + 2]]\n",
    "        df_copy = df_copy.append(r, ignore_index=True)\n",
    "        i = i + 3\n",
    "\n",
    "# id = df.loc[[0]]\n",
    "# df_copy = df_copy.append(id, ignore_index=True)\n",
    "# print(df_copy)\n",
    "# df_copy = df_copy.append(id,ignore_index=True)\n",
    "print(df_copy)\n",
    "\n",
    "#     RANDID  AGE  SYSBP  DIABP  CURSMOKE  BPMEDS  CVD\n",
    "# 0     2448   39  106.0   70.0         0     0.0    1\n",
    "# 1     2448   52  121.0   66.0         0     0.0    1\n",
    "# 2     6238   46  121.0   81.0         0     0.0    0\n",
    "# 3     6238   52  105.0   69.5         0     0.0    0\n",
    "# 4     6238   58  108.0   66.0         0     0.0    0\n",
    "# 5     9428   48  127.5   80.0         1     0.0    0\n",
    "# 6     9428   54  141.0   89.0         1     0.0    0\n",
    "# 7    10552   61  150.0   95.0         1     0.0    1\n",
    "# 8    10552   67  183.0  109.0         1     0.0    1\n",
    "# 9    11252   46  130.0   84.0         1     0.0    0\n",
    "# 10   11252   51  109.0   77.0         1     0.0    0"
   ],
   "metadata": {
    "collapsed": false,
    "pycharm": {
     "name": "#%%\n"
    }
   }
  },
  {
   "cell_type": "code",
   "execution_count": null,
   "outputs": [],
   "source": [
    "# MICE one/per\n"
   ],
   "metadata": {
    "collapsed": false,
    "pycharm": {
     "name": "#%%\n"
    }
   }
  },
  {
   "cell_type": "code",
   "execution_count": null,
   "outputs": [],
   "source": [
    "# MICE\n"
   ],
   "metadata": {
    "collapsed": false,
    "pycharm": {
     "name": "#%%\n"
    }
   }
  },
  {
   "cell_type": "code",
   "execution_count": null,
   "outputs": [],
   "source": [],
   "metadata": {
    "collapsed": false,
    "pycharm": {
     "name": "#%%\n"
    }
   }
  }
 ],
 "metadata": {
  "kernelspec": {
   "display_name": "Python 3",
   "language": "python",
   "name": "python3"
  },
  "language_info": {
   "codemirror_mode": {
    "name": "ipython",
    "version": 2
   },
   "file_extension": ".py",
   "mimetype": "text/x-python",
   "name": "python",
   "nbconvert_exporter": "python",
   "pygments_lexer": "ipython2",
   "version": "2.7.6"
  }
 },
 "nbformat": 4,
 "nbformat_minor": 0
}